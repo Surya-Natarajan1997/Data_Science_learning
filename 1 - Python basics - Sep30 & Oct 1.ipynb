{
 "cells": [
  {
   "cell_type": "code",
   "execution_count": 5,
   "id": "8cbdc766",
   "metadata": {},
   "outputs": [
    {
     "name": "stdout",
     "output_type": "stream",
     "text": [
      "140731258213448 10\n",
      "140731258213768 20\n"
     ]
    }
   ],
   "source": [
    "num=10\n",
    "print(id(num), num)\n",
    "num=20\n",
    "print(id(num), num)"
   ]
  },
  {
   "cell_type": "code",
   "execution_count": 17,
   "id": "4314cb2a",
   "metadata": {},
   "outputs": [
    {
     "name": "stdout",
     "output_type": "stream",
     "text": [
      "2 140731258213192\n",
      "2 140731258213192\n",
      "257 2153276703152\n",
      "257 2153276702864\n",
      "-6 2153275636912\n",
      "-6 2153275637680\n"
     ]
    }
   ],
   "source": [
    "a=2\n",
    "b=2\n",
    "\n",
    "\n",
    "print(a, id(a))\n",
    "print(b, id(b))\n",
    "\n",
    "c=257\n",
    "d=257\n",
    "\n",
    "print(c, id(c))\n",
    "print(d, id(d))\n",
    "\n",
    "e=-6\n",
    "f=-6\n",
    "\n",
    "print(e, id(e))\n",
    "print(f, id(f))\n",
    "\n",
    "#interning works between -5 to 256 only\n",
    "#Interning means storing the value of equal variables in same memory"
   ]
  },
  {
   "cell_type": "code",
   "execution_count": 4,
   "id": "305aee50",
   "metadata": {},
   "outputs": [
    {
     "name": "stdout",
     "output_type": "stream",
     "text": [
      "20 <class 'int'>\n"
     ]
    }
   ],
   "source": [
    "print(num, type(num))"
   ]
  },
  {
   "cell_type": "code",
   "execution_count": 6,
   "id": "6cc2c676",
   "metadata": {},
   "outputs": [
    {
     "name": "stdout",
     "output_type": "stream",
     "text": [
      "11.5\n"
     ]
    }
   ],
   "source": [
    "num1=True\n",
    "num2=10.5\n",
    "print(num1+num2)"
   ]
  },
  {
   "cell_type": "code",
   "execution_count": 1,
   "id": "4e918c51",
   "metadata": {},
   "outputs": [
    {
     "name": "stdout",
     "output_type": "stream",
     "text": [
      "-4.333333333333333\n",
      "-5\n",
      "2\n"
     ]
    }
   ],
   "source": [
    "print(-13/3) #divison\n",
    "print(-13//3) #floor divison\n",
    "print(-13%3) # modulus"
   ]
  },
  {
   "cell_type": "code",
   "execution_count": 13,
   "id": "4c514d7c",
   "metadata": {},
   "outputs": [
    {
     "name": "stdout",
     "output_type": "stream",
     "text": [
      "-5\n",
      "-4\n",
      "4\n",
      "5\n"
     ]
    }
   ],
   "source": [
    "import math\n",
    "\n",
    "print(math.floor(-4.3))\n",
    "print(math.ceil(-4.3))\n",
    "print(math.floor(4.3))\n",
    "print(math.ceil(4.3))"
   ]
  },
  {
   "cell_type": "code",
   "execution_count": null,
   "id": "abdb5daa",
   "metadata": {},
   "outputs": [],
   "source": [
    "#-------------- Day 2-----------------"
   ]
  },
  {
   "cell_type": "code",
   "execution_count": 19,
   "id": "ecab3199",
   "metadata": {},
   "outputs": [],
   "source": [
    "# Operators\n",
    "# Assignment operators\n",
    "# a=10\n",
    "# a+=10\n",
    "# a-=10\n",
    "# a*=10\n",
    "# a/=10\n",
    "# number= divisor*quotient+remainder\n",
    "# a//=10(floor division, gives quotient)\n",
    "# a%=10(modulus, gives remainder)\n",
    "# a**=10"
   ]
  },
  {
   "cell_type": "code",
   "execution_count": 23,
   "id": "9ab11057",
   "metadata": {},
   "outputs": [
    {
     "name": "stdout",
     "output_type": "stream",
     "text": [
      "False\n",
      "False\n",
      "True\n",
      "True\n",
      "False\n",
      "True\n"
     ]
    }
   ],
   "source": [
    "#Comparison operators (returns boolean values)\n",
    "print (10 > 15)\n",
    "print (10 >= 15)\n",
    "print (10 < 15)\n",
    "print (10 <= 15)\n",
    "print(10==15)  # equal to\n",
    "print(10!=15)  # not equal to"
   ]
  },
  {
   "cell_type": "code",
   "execution_count": null,
   "id": "72e4d102",
   "metadata": {},
   "outputs": [],
   "source": [
    "# Logical operators ( and , or , not)\n",
    "\n",
    "# and --> both condition should be true\n",
    "# or--> any one of the condtion should be true\n",
    "# not --> converts true to false and vice versa"
   ]
  },
  {
   "cell_type": "code",
   "execution_count": 24,
   "id": "5a891dfe",
   "metadata": {},
   "outputs": [
    {
     "name": "stdout",
     "output_type": "stream",
     "text": [
      "False\n"
     ]
    }
   ],
   "source": [
    "# Identity operator( is, is not ) ( to compare)\n",
    "num1= 10\n",
    "num2=15\n",
    "print(num1 is num2)\n",
    "\n",
    "# == compares values whereas 'is' compares address\n",
    "\n",
    "\n"
   ]
  },
  {
   "cell_type": "code",
   "execution_count": 2,
   "id": "da602262",
   "metadata": {},
   "outputs": [
    {
     "name": "stdout",
     "output_type": "stream",
     "text": [
      "True\n"
     ]
    }
   ],
   "source": [
    "# Membership operator (in, not in )\n",
    "\n",
    "\n",
    "news = 'India won the world cup'\n",
    "word= 'India '\n",
    "\n",
    "print(word in news)"
   ]
  },
  {
   "cell_type": "code",
   "execution_count": 3,
   "id": "5fca0b08",
   "metadata": {},
   "outputs": [
    {
     "name": "stdout",
     "output_type": "stream",
     "text": [
      "0b10\n",
      "0b11\n",
      "2\n",
      "0b10\n",
      "3\n",
      "0b11\n",
      "4\n",
      "8\n",
      "2\n"
     ]
    }
   ],
   "source": [
    "#bitwise operator (AND, OR, XOR, left shift operator, right shift operator)(&, |,^,<<, >>)\n",
    "'''(take the decimal values and convert them to binary value and does the operation and \n",
    "converts the value to decimal and returns the result)'''\n",
    "\n",
    "a=2\n",
    "b=3\n",
    "print(bin(a))\n",
    "print(bin(b))\n",
    "print(a & b)\n",
    "print(bin(a & b))\n",
    "print(a | b)\n",
    "print(bin(a | b))\n",
    "\n",
    "print(2<<1)#(moves the binary digit of the value once to the left side(2=1 0 , once moved left side its, 1 0 0 => 4))\n",
    "\n",
    "print(2<<2)\n",
    "\n",
    "print(8>>2)"
   ]
  },
  {
   "cell_type": "code",
   "execution_count": null,
   "id": "af5c7cb7",
   "metadata": {},
   "outputs": [],
   "source": [
    "#-------------------Strings--------------"
   ]
  },
  {
   "cell_type": "code",
   "execution_count": 13,
   "id": "07fba22f",
   "metadata": {},
   "outputs": [
    {
     "name": "stdout",
     "output_type": "stream",
     "text": [
      "He is a good boy\n",
      "He is a 'good' boy\n",
      "He is a \"good\" boy\n"
     ]
    }
   ],
   "source": [
    "print('He is a good boy')\n",
    "\n",
    "# print('He is a 'good' boy') (cannot print this as it has syntax error due to '', use double quotes outside to avoid this)\n",
    "\n",
    "print(\"He is a 'good' boy\")\n",
    "\n",
    "# print(\"He is a \"good\" boy\")(cannot print this as it has syntax error due to \"\", use triple quotes outside to avoid this)\n",
    "\n",
    "print('''He is a \"good\" boy''')\n",
    "\n",
    "#use triple quotes for multiple lines"
   ]
  },
  {
   "cell_type": "code",
   "execution_count": 22,
   "id": "36d6fe45",
   "metadata": {},
   "outputs": [
    {
     "name": "stdout",
     "output_type": "stream",
     "text": [
      "Jon Snow is a good boy\n",
      "JonSnowis a good boy\n",
      "Jon Snow is a good boy\n"
     ]
    }
   ],
   "source": [
    "first_name='Jon'\n",
    "last_name='Snow'\n",
    "\n",
    "print(first_name+' '+ last_name +' '+ 'is a good boy')\n",
    "\n",
    "#Formatted strings-f\n",
    "\n",
    "print(f'{first_name}{last_name}is a good boy')#(without spaces)\n",
    "print(f'{first_name} {last_name} is a good boy')"
   ]
  },
  {
   "cell_type": "code",
   "execution_count": 28,
   "id": "f990439c",
   "metadata": {},
   "outputs": [
    {
     "name": "stdout",
     "output_type": "stream",
     "text": [
      "good boy\n",
      "bad boy\n",
      "good boy\n",
      "bad boy\n",
      "good boy bad boy\n"
     ]
    }
   ],
   "source": [
    "print('good boy')\n",
    "print('bad boy')\n",
    "\n",
    "#by default it is printed in new line due to end'\\n' command present by default\n",
    "\n",
    "print('good boy', end='\\n')\n",
    "print('bad boy')\n",
    "\n",
    "print('good boy', end=' ')#(uses space instead of a new line)\n",
    "print('bad boy')"
   ]
  },
  {
   "cell_type": "code",
   "execution_count": 29,
   "id": "4567bb33",
   "metadata": {},
   "outputs": [
    {
     "name": "stdout",
     "output_type": "stream",
     "text": [
      "Enter the name:surya\n",
      "Enter the age:27\n",
      "surya 27\n"
     ]
    }
   ],
   "source": [
    "#user input\n",
    "\n",
    "name=str(input('Enter the name:'))#(str is not needed as all the inputs are considered str by default)\n",
    "age=int(input('Enter the age:'))\n",
    "print(name, age)"
   ]
  },
  {
   "cell_type": "code",
   "execution_count": 31,
   "id": "261fd714",
   "metadata": {},
   "outputs": [
    {
     "name": "stdout",
     "output_type": "stream",
     "text": [
      "5\n",
      "11\n"
     ]
    }
   ],
   "source": [
    "#length of a String\n",
    "\n",
    "name='Surya'\n",
    "print(len(name))\n",
    "\n",
    "a='Super Mario'\n",
    "print(len(a))#(space will be counted)"
   ]
  },
  {
   "cell_type": "code",
   "execution_count": 35,
   "id": "f179a733",
   "metadata": {},
   "outputs": [
    {
     "name": "stdout",
     "output_type": "stream",
     "text": [
      "S\n",
      "a\n"
     ]
    }
   ],
   "source": [
    "#Index\n",
    "\n",
    "name='Surya'\n",
    "print(name[0])  # prints the first character\n",
    "\n",
    "#reverse index\n",
    "print(name[-1]) # prints the last character"
   ]
  },
  {
   "cell_type": "code",
   "execution_count": 38,
   "id": "44fd152c",
   "metadata": {},
   "outputs": [
    {
     "ename": "TypeError",
     "evalue": "'str' object does not support item assignment",
     "output_type": "error",
     "traceback": [
      "\u001b[1;31m---------------------------------------------------------------------------\u001b[0m",
      "\u001b[1;31mTypeError\u001b[0m                                 Traceback (most recent call last)",
      "Cell \u001b[1;32mIn[38], line 4\u001b[0m\n\u001b[0;32m      1\u001b[0m \u001b[38;5;66;03m#strings are immutable\u001b[39;00m\n\u001b[0;32m      3\u001b[0m name\u001b[38;5;241m=\u001b[39m\u001b[38;5;124m'\u001b[39m\u001b[38;5;124mRAM\u001b[39m\u001b[38;5;124m'\u001b[39m\n\u001b[1;32m----> 4\u001b[0m name[\u001b[38;5;241m0\u001b[39m]\u001b[38;5;241m=\u001b[39m\u001b[38;5;124m'\u001b[39m\u001b[38;5;124mJ\u001b[39m\u001b[38;5;124m'\u001b[39m\n\u001b[0;32m      5\u001b[0m \u001b[38;5;28mprint\u001b[39m(name)\n\u001b[0;32m      7\u001b[0m \u001b[38;5;124;03m'''cannot over write a single character in a string as \u001b[39;00m\n\u001b[0;32m      8\u001b[0m \u001b[38;5;124;03mit is not possible to change a single character's memory in total string's memory'''\u001b[39;00m\n",
      "\u001b[1;31mTypeError\u001b[0m: 'str' object does not support item assignment"
     ]
    }
   ],
   "source": [
    "#strings are immutable\n",
    "\n",
    "name='RAM'\n",
    "name[0]='J'\n",
    "print(name)\n",
    "\n",
    "'''cannot over write a single character in a string as \n",
    "it is not possible to change a single character's memory in total string's memory'''\n"
   ]
  },
  {
   "cell_type": "code",
   "execution_count": 1,
   "id": "c0a5e8c6",
   "metadata": {},
   "outputs": [
    {
     "name": "stdout",
     "output_type": "stream",
     "text": [
      "JAM\n"
     ]
    }
   ],
   "source": [
    "name='RAM'\n",
    "name='JAM'\n",
    "\n",
    "print(name) # this is possible as python stores a new name in a new memory"
   ]
  },
  {
   "cell_type": "code",
   "execution_count": 4,
   "id": "e2bf7da4",
   "metadata": {},
   "outputs": [
    {
     "name": "stdout",
     "output_type": "stream",
     "text": [
      "JAM\n",
      "JAMA JAO\n",
      "JAMA RAO\n"
     ]
    }
   ],
   "source": [
    "#to replace a character then .replace can be used but this will replace all that character\n",
    "\n",
    "name='RAM'\n",
    "name=name.replace('R','J')\n",
    "print(name)\n",
    "\n",
    "#to replace only one character then give number of changes needed.\n",
    "\n",
    "name='RAMA RAO'\n",
    "name=name.replace('R','J')\n",
    "print(name)\n",
    "\n",
    "name='RAMA RAO'\n",
    "name=name.replace('R','J',1)\n",
    "print(name)\n"
   ]
  },
  {
   "cell_type": "code",
   "execution_count": 40,
   "id": "902e8eb1",
   "metadata": {},
   "outputs": [
    {
     "name": "stdout",
     "output_type": "stream",
     "text": [
      "2\n"
     ]
    }
   ],
   "source": [
    "print(~ -3)"
   ]
  },
  {
   "cell_type": "code",
   "execution_count": 13,
   "id": "637ac933",
   "metadata": {},
   "outputs": [
    {
     "name": "stdout",
     "output_type": "stream",
     "text": [
      "0b10000\n",
      "2\n"
     ]
    }
   ],
   "source": [
    "z=16\n",
    "print(bin(z))\n",
    "print(z>>3)"
   ]
  },
  {
   "cell_type": "code",
   "execution_count": null,
   "id": "9fbbd4e6",
   "metadata": {},
   "outputs": [],
   "source": []
  }
 ],
 "metadata": {
  "kernelspec": {
   "display_name": "Python 3 (ipykernel)",
   "language": "python",
   "name": "python3"
  },
  "language_info": {
   "codemirror_mode": {
    "name": "ipython",
    "version": 3
   },
   "file_extension": ".py",
   "mimetype": "text/x-python",
   "name": "python",
   "nbconvert_exporter": "python",
   "pygments_lexer": "ipython3",
   "version": "3.12.8"
  }
 },
 "nbformat": 4,
 "nbformat_minor": 5
}
