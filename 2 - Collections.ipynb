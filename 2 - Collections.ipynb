{
 "cells": [
  {
   "cell_type": "code",
   "execution_count": null,
   "id": "fd7891ce",
   "metadata": {},
   "outputs": [],
   "source": [
    "#Collections -> list, tuple, set, dictionary"
   ]
  },
  {
   "cell_type": "code",
   "execution_count": 16,
   "id": "90cc17db",
   "metadata": {},
   "outputs": [
    {
     "name": "stdout",
     "output_type": "stream",
     "text": [
      "1\n",
      "[1, 2, 3, 'Surya', 3, 4, 2]\n",
      "[1, 2, 3, 'Surya', 3, 4]\n",
      "removed_data= 4\n",
      "[1, 2, 3, 'Surya', 3]\n",
      "[1, 2, 'Surya', 3]\n",
      "[]\n"
     ]
    }
   ],
   "source": [
    "#LIST -> [],duplicates are allowed, indexed/ordered, mutable\n",
    "\n",
    "numbers=[1,2,3,2,3,4,2]\n",
    "print(numbers[0])  #indexed\n",
    "numbers[3]='Surya'   # mutable, can store all type of data\n",
    "print(numbers)\n",
    "\n",
    "#remove the last data\n",
    "numbers.pop()\n",
    "print(numbers)\n",
    "\n",
    "# to find the removed data\n",
    "removed_data= numbers.pop()\n",
    "print('removed_data=',removed_data)\n",
    "print(numbers)\n",
    "\n",
    "# to delete an individual data (removes only the first occurance of the character)\n",
    "numbers.remove(3)\n",
    "print(numbers)\n",
    "\n",
    "# To clear the entire list\n",
    "numbers.clear()\n",
    "print(numbers)"
   ]
  },
  {
   "cell_type": "code",
   "execution_count": 13,
   "id": "22b61255",
   "metadata": {},
   "outputs": [
    {
     "name": "stdout",
     "output_type": "stream",
     "text": [
      "['Rohit', 'Kohli', 'Dravid', 'Dhoni']\n",
      "['Rohit', 'Kohli', 'Dravid', 'Dhoni', 'Raina']\n",
      "['Rohit', 'Gill', 'Kohli', 'Dravid', 'Dhoni', 'Raina']\n",
      "['Rohit', 'Gill', 'Kohli', 'Dravid', 'Dhoni', 'Raina', 'Nehra', 'hardik', 'Shami']\n",
      "memory location 2451971344448\n",
      "['Shami', 'hardik', 'Nehra', 'Raina', 'Dhoni', 'Dravid', 'Kohli', 'Gill', 'Rohit']\n",
      "memory location 2451971344448\n",
      "['Dhoni', 'Dravid', 'Gill', 'Kohli', 'Nehra', 'Raina', 'Rohit', 'Shami', 'hardik']\n",
      "['Dhoni', 'Dravid', 'Gill', 'hardik', 'Kohli', 'Nehra', 'Raina', 'Rohit', 'Shami']\n",
      "[10, 3, 6, 2, 1]\n",
      "[10, 6, 3, 2, 1]\n"
     ]
    }
   ],
   "source": [
    "players=['Rohit','Kohli','Dravid', 'Dhoni']\n",
    "print(players)\n",
    "\n",
    "#to add at the end\n",
    "\n",
    "players.append('Raina')\n",
    "print(players)\n",
    "\n",
    "# to insert item in a location\n",
    "\n",
    "players.insert(1,'Gill')\n",
    "print(players)\n",
    "\n",
    "# to join a list to another\n",
    "\n",
    "new_players=['Nehra','hardik','Shami']\n",
    "players.extend(new_players)\n",
    "print(players)\n",
    "\n",
    "# to reverse a list\n",
    "\n",
    "players.reverse()\n",
    "print('memory location', id(players))\n",
    "print(players)\n",
    "print('memory location', id(players))\n",
    "\n",
    "#to sort data - Python sorts data with respect to ASCII script\n",
    "players.sort()\n",
    "print(players)\n",
    "\n",
    "#to sort data in alphabetical order\n",
    "players.sort(key=str.lower)\n",
    "print(players)\n",
    "\n",
    "\n",
    "#to sort reverse\n",
    "numbers=[10,3,6,2,1]\n",
    "print(numbers)\n",
    "numbers.sort(reverse=True)\n",
    "print(numbers)\n"
   ]
  },
  {
   "cell_type": "code",
   "execution_count": 19,
   "id": "5fa71ad3",
   "metadata": {},
   "outputs": [
    {
     "name": "stdout",
     "output_type": "stream",
     "text": [
      "5\n",
      "5\n",
      "2\n"
     ]
    }
   ],
   "source": [
    "#to find the number of elements in list\n",
    "players=['Rohit','Kohli','Dravid', 'Dhoni', 'Dhoni']\n",
    "print(len(players))\n",
    "\n",
    "# to find the length of an individual element\n",
    "print(len(players[0]))\n",
    "\n",
    "\n",
    "#to count the single element reptition count\n",
    "print(players.count('Dhoni'))"
   ]
  },
  {
   "cell_type": "code",
   "execution_count": 27,
   "id": "9adf03e7",
   "metadata": {},
   "outputs": [
    {
     "name": "stdout",
     "output_type": "stream",
     "text": [
      "()\n",
      "2\n",
      "2\n"
     ]
    }
   ],
   "source": [
    "#TUPLE -> (),duplicates are allowed, indexed/ordered, immutable\n",
    "\n",
    "#empty tuple\n",
    "\n",
    "numbs=()\n",
    "print(numbs)\n",
    "\n",
    "nums=(2,1,3,1,4,8)\n",
    "\n",
    "print(nums[0]) #indexed\n",
    "\n",
    "#nums[0]=2 #immutable ->  if run, type error will appear\n",
    "\n",
    "#tuples are used for enums->constants\n",
    "\n",
    "print(nums.count(1))"
   ]
  },
  {
   "cell_type": "code",
   "execution_count": 40,
   "id": "cc95a91c",
   "metadata": {},
   "outputs": [
    {
     "name": "stdout",
     "output_type": "stream",
     "text": [
      "{}\n",
      "<class 'dict'>\n",
      "set()\n",
      "<class 'set'>\n",
      "{'Kohli', 'Rohit', 'Dhoni', 'Dravid'}\n",
      "{'Rohit', 'Dhoni', 'Shami', 'Dravid', 'Kohli'}\n",
      "{'Rohit', 'Dhoni', 'Dravid', 'Kohli'}\n",
      "set()\n"
     ]
    }
   ],
   "source": [
    "#SET -> {},duplicates are not allowed,not indexed/ordered, mutable\n",
    "\n",
    "#empty set\n",
    "\n",
    "persons={}\n",
    "print(persons)\n",
    "print(type(persons)) #=> this will create an empty dict as set itself a part of a dict\n",
    "\n",
    "persons=set()\n",
    "print(persons)\n",
    "print(type(persons))\n",
    "\n",
    "persons={'Rohit','Kohli','Dravid', 'Dhoni','Dravid', 'Dhoni'}\n",
    "print(persons) # => duplicates will be removed and the result will be random order\n",
    "\n",
    "\n",
    "# add an element\n",
    "persons={'Rohit','Kohli','Dravid', 'Dhoni','Dravid', 'Dhoni'}\n",
    "persons.add('Shami')\n",
    "print(persons)\n",
    "\n",
    "# remove an element\n",
    "persons.remove('Shami')\n",
    "print(persons)\n",
    "\n",
    "# persons.remove('Irfan') # trying to remove the non-element gives key error\n",
    "\n",
    "persons.discard('Irfan')\n",
    "\n",
    "# to clear the set\n",
    "persons.clear()\n",
    "print(persons)"
   ]
  },
  {
   "cell_type": "code",
   "execution_count": 49,
   "id": "31f88755",
   "metadata": {},
   "outputs": [
    {
     "name": "stdout",
     "output_type": "stream",
     "text": [
      "{1, 2, 3, 4, 5, 6}\n",
      "{3, 4}\n",
      "{1, 2}\n",
      "{5, 6}\n",
      "True\n"
     ]
    }
   ],
   "source": [
    "a={1,2,3,4}\n",
    "b={3,4,5,6}\n",
    "c={3,4}\n",
    "print(a.union(b))\n",
    "print(a.intersection(b))\n",
    "print(a.difference(b))\n",
    "print(b.difference(a))\n",
    "# if union and other operations cannot be done for list and tuple=> \n",
    "#this will cause attribute error as union attribute is not assosicated with these\n",
    "\n",
    "print(c.issubset(a))"
   ]
  },
  {
   "cell_type": "code",
   "execution_count": 62,
   "id": "6112e163",
   "metadata": {},
   "outputs": [
    {
     "name": "stdout",
     "output_type": "stream",
     "text": [
      "{'Name': 'Raj', 'Age': 25}\n",
      "Raj 25\n",
      "Raj 25 None\n",
      "{'Name': 'Raj', 'Age': 25, 'Place': 'Chennai'}\n",
      "{'Name': 'Raj', 'Place': 'Chennai'}\n"
     ]
    }
   ],
   "source": [
    "#DICTIONARY -> {},duplicates are allowed, indexed/ordered, mutable\n",
    "\n",
    "person={\n",
    "    \"Name\":'Raj',\n",
    "    \"Age\": 25\n",
    "}\n",
    "print(person)\n",
    "print(person[\"Name\"],person[\"Age\"]) # not recommended as it will through error if a non-key is entered in place of key\n",
    "print(person.get(\"Name\"),person.get(\"Age\"),person.get(\"place\"))\n",
    "\n",
    "# to add a new entry/pair\n",
    "person[\"Place\"]=\"Chennai\"  #Syntax similar to accessing an individual index in list\n",
    "print(person)\n",
    "\n",
    "# to remove a pair\n",
    "person.pop(\"Age\")\n",
    "print(person)"
   ]
  },
  {
   "cell_type": "code",
   "execution_count": 66,
   "id": "5f9ed830",
   "metadata": {},
   "outputs": [
    {
     "name": "stdout",
     "output_type": "stream",
     "text": [
      "dict_keys(['Name', 'Place'])\n",
      "dict_values(['Raj', 'Chennai'])\n"
     ]
    }
   ],
   "source": [
    "# to print only the keys\n",
    "print(person.keys())\n",
    "\n",
    "# to print only the values\n",
    "print(person.values())"
   ]
  },
  {
   "cell_type": "code",
   "execution_count": 71,
   "id": "4bbd4e88",
   "metadata": {},
   "outputs": [
    {
     "name": "stdout",
     "output_type": "stream",
     "text": [
      "{'Name': 'Raj', 'Age': 35, 'Son': {'Name': 'Ron', 'Age': 2}}\n",
      "{'Name': 'Ron', 'Age': 2}\n",
      "Ron\n"
     ]
    }
   ],
   "source": [
    "#Nested dictionary\n",
    "\n",
    "person={\n",
    "    \"Name\":'Raj',\n",
    "    \"Age\": 35,\n",
    "    \"Son\":{\n",
    "        \"Name\":'Ron',\n",
    "        \"Age\":2\n",
    "    }\n",
    "}\n",
    "print(person)\n",
    "\n",
    "#to get the inner dictionary\n",
    "print(person.get(\"Son\"))\n",
    "\n",
    "#To get a value from the inner dictionary\n",
    "print(person.get(\"Son\").get(\"Name\"))"
   ]
  },
  {
   "cell_type": "code",
   "execution_count": 77,
   "id": "d34f12f5",
   "metadata": {},
   "outputs": [
    {
     "name": "stdout",
     "output_type": "stream",
     "text": [
      "['BMW', 'VW', 'Jaguar']\n",
      "['BMW', 'VW', 'Jaguar', 'Limo']\n"
     ]
    }
   ],
   "source": [
    "person={\n",
    "    \"Name\":'Raj',\n",
    "    \"Age\": 25,\n",
    "    \"Cars\":[\"BMW\",\"VW\",\"Jaguar\"]\n",
    "}\n",
    "\n",
    "print(person.get('Cars'))  \n",
    "\n",
    "#to add an element into the list\n",
    "\n",
    "cars=person.get('Cars')\n",
    "cars.append(\"Limo\") # since both are stores in same address, changing one will change both\n",
    "print(person.get('Cars')) "
   ]
  },
  {
   "cell_type": "code",
   "execution_count": 78,
   "id": "7303b709",
   "metadata": {},
   "outputs": [
    {
     "name": "stdout",
     "output_type": "stream",
     "text": [
      "[4, 2, 3]\n"
     ]
    }
   ],
   "source": [
    "c=[1,2,3]\n",
    "d=c\n",
    "d[0]=4\n",
    "print(c)\n",
    "\n",
    "'''Collections are stored in heap memory and their address is stored in stack memoery, accessing happens through stack memory\n",
    "so changing anyone collection will affect the other one too'''\n",
    "\n"
   ]
  },
  {
   "cell_type": "code",
   "execution_count": 7,
   "id": "2527080d",
   "metadata": {},
   "outputs": [
    {
     "name": "stdout",
     "output_type": "stream",
     "text": [
      "[1, 2, 2, 4, 2]\n"
     ]
    }
   ],
   "source": []
  },
  {
   "cell_type": "code",
   "execution_count": 1,
   "id": "b1646cc4",
   "metadata": {},
   "outputs": [],
   "source": [
    "#creating a dictionary by iterations\n",
    "list=[1,2,3,4,5]\n",
    "\n",
    "result={}"
   ]
  },
  {
   "cell_type": "code",
   "execution_count": 2,
   "id": "dc6cdd4c",
   "metadata": {},
   "outputs": [],
   "source": [
    "for i in list:\n",
    "    result[i]=i+1"
   ]
  },
  {
   "cell_type": "code",
   "execution_count": 3,
   "id": "711d642f",
   "metadata": {},
   "outputs": [
    {
     "data": {
      "text/plain": [
       "{1: 2, 2: 3, 3: 4, 4: 5, 5: 6}"
      ]
     },
     "execution_count": 3,
     "metadata": {},
     "output_type": "execute_result"
    }
   ],
   "source": [
    "result"
   ]
  },
  {
   "cell_type": "code",
   "execution_count": null,
   "id": "30093148",
   "metadata": {},
   "outputs": [],
   "source": []
  },
  {
   "cell_type": "code",
   "execution_count": null,
   "id": "530d4802",
   "metadata": {},
   "outputs": [],
   "source": []
  },
  {
   "cell_type": "code",
   "execution_count": null,
   "id": "7c20d433",
   "metadata": {},
   "outputs": [],
   "source": []
  },
  {
   "cell_type": "code",
   "execution_count": null,
   "id": "85a2bc1d",
   "metadata": {},
   "outputs": [],
   "source": []
  },
  {
   "cell_type": "code",
   "execution_count": null,
   "id": "73e06a35",
   "metadata": {},
   "outputs": [],
   "source": []
  }
 ],
 "metadata": {
  "kernelspec": {
   "display_name": "Python 3 (ipykernel)",
   "language": "python",
   "name": "python3"
  },
  "language_info": {
   "codemirror_mode": {
    "name": "ipython",
    "version": 3
   },
   "file_extension": ".py",
   "mimetype": "text/x-python",
   "name": "python",
   "nbconvert_exporter": "python",
   "pygments_lexer": "ipython3",
   "version": "3.12.8"
  }
 },
 "nbformat": 4,
 "nbformat_minor": 5
}
