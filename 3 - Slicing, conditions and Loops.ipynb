{
 "cells": [
  {
   "cell_type": "code",
   "execution_count": null,
   "id": "ed06a897",
   "metadata": {},
   "outputs": [],
   "source": [
    "#SLICING---------\n",
    "\n",
    "N=\"RAJESH\"\n",
    "print(N)\n",
    "print(N[0])\n",
    "print(N[5])\n",
    "# slicing syntax=> [index of start value : index of last value-1 : step(by default 1) ] \n",
    "print(N[0:3])\n",
    "print(N[3:6])\n",
    "print(N[2:]) # if last value is not provided, all the following elements will be printed\n",
    "print(N[:4]) #if start value is not provided and if the step is +ve or not provided(hence 1)then it will start from 0th index\n",
    "print(N[0:6:2]) # if step is provided then it will jump that much elements every step\n",
    "\n",
    "print(N[2:2]) #if starting and ending indices are same it wont print"
   ]
  },
  {
   "cell_type": "code",
   "execution_count": 2,
   "id": "31f032c1",
   "metadata": {},
   "outputs": [
    {
     "name": "stdout",
     "output_type": "stream",
     "text": [
      "RAJ\n",
      "HS\n",
      "HSE\n",
      "EJAR\n",
      "HSEJAR\n",
      "\n"
     ]
    }
   ],
   "source": [
    "#Negative indices\n",
    "N=\"RAJESH\"\n",
    "print(N[-6:-3]) #from left to right since step is positive\n",
    "#print(N[-6:-3:-1]) # wont work as number direction(left to right) and step direction(right to left) are opposite\n",
    "print(N[6:3:-1]) # will work as both goes in right to left direction\n",
    "print(N[:-4:-1]) # if the step is negative then default starting index is -1\n",
    "print(N[-3::-1]) \n",
    "print(N[ : :-1]) #=> will help in reversing the string\n",
    "\n",
    "print(N[2:-4]) #if starting and ending indices are same it wont print"
   ]
  },
  {
   "cell_type": "code",
   "execution_count": null,
   "id": "22cf0089",
   "metadata": {},
   "outputs": [],
   "source": [
    "#Slicing works in list\n",
    "\n",
    "N=['R','A','J','E','S','H']\n",
    "print(N)\n",
    "print(N[0])\n",
    "print(N[5])\n",
    "print(N[0:3])\n",
    "print(N[3:6])\n",
    "print(N[2:]) \n",
    "print(N[:4]) \n",
    "print(N[0:6:2]) \n",
    "print(N[2:2]) #if starting and ending indices are same in list, it will print empty list\n",
    "print(N[-6:-3])\n",
    "print(N[-6:-3:-1])\n",
    "print(N[6:3:-1])\n",
    "print(N[:-4:-1]) \n",
    "print(N[-3::-1]) \n",
    "print(N[ : :-1])\n",
    "print(N[2:-4]) "
   ]
  },
  {
   "cell_type": "code",
   "execution_count": null,
   "id": "bcaef86e",
   "metadata": {},
   "outputs": [],
   "source": [
    "#Slicing works in tuple\n",
    "\n",
    "N=('R','A','J','E','S','H')\n",
    "print(N)\n",
    "print(N[0])\n",
    "print(N[5])\n",
    "print(N[0:3])\n",
    "print(N[3:6])\n",
    "print(N[2:]) \n",
    "print(N[:4]) \n",
    "print(N[0:6:2]) \n",
    "print(N[2:2]) #if starting and ending indices are same in tuple, it will print empty tuple\n",
    "print(N[-6:-3])\n",
    "print(N[-6:-3:-1])\n",
    "print(N[6:3:-1])\n",
    "print(N[:-4:-1]) \n",
    "print(N[-3::-1]) \n",
    "print(N[ : :-1])\n",
    "print(N[2:-4]) "
   ]
  },
  {
   "cell_type": "code",
   "execution_count": null,
   "id": "fc7bddad",
   "metadata": {},
   "outputs": [],
   "source": [
    "# ------------------ if, if else , elif ---------------------"
   ]
  },
  {
   "cell_type": "code",
   "execution_count": null,
   "id": "76bd7bc8",
   "metadata": {},
   "outputs": [],
   "source": [
    "a=40\n",
    "b=70\n",
    "\n",
    "if a> b:\n",
    "    print('a is greater')\n",
    "else:\n",
    "    print('b is greater')"
   ]
  },
  {
   "cell_type": "code",
   "execution_count": null,
   "id": "8e861409",
   "metadata": {},
   "outputs": [],
   "source": [
    "a=40\n",
    "b=70\n",
    "c=30\n",
    "\n",
    "if a>b and a>c:\n",
    "    print('a is greater')\n",
    "elif b>c:\n",
    "    print('b is greater')\n",
    "else:\n",
    "    print('c is greater')\n"
   ]
  },
  {
   "cell_type": "code",
   "execution_count": null,
   "id": "b4d40714",
   "metadata": {},
   "outputs": [],
   "source": [
    "#--------- LOOPS-------------\n",
    "#------------for loop--------------------"
   ]
  },
  {
   "cell_type": "code",
   "execution_count": null,
   "id": "a71ff199",
   "metadata": {},
   "outputs": [],
   "source": [
    "#range - > (start value(0 by default), end value-1, step(1 by default))\n",
    "\n",
    "print(list(range(0,10,1)))\n",
    "# this can be simply written as:\n",
    "print(list(range(10)))\n",
    "\n",
    "print(list(range(1,10,2)))\n",
    "\n",
    "print(list(range(10,0,-1))) # reverse "
   ]
  },
  {
   "cell_type": "code",
   "execution_count": null,
   "id": "4f37a9f1",
   "metadata": {},
   "outputs": [],
   "source": [
    "# for loop --> if number of times of excution is known \n",
    "\n",
    "for z in range(10):\n",
    "    print(z)\n"
   ]
  },
  {
   "cell_type": "code",
   "execution_count": null,
   "id": "05ccfceb",
   "metadata": {},
   "outputs": [],
   "source": [
    "# list of squares of first 10 numbers\n",
    "\n",
    "for x in range(1,11): \n",
    "    print(x**2)"
   ]
  },
  {
   "cell_type": "code",
   "execution_count": 3,
   "id": "0681c9ac",
   "metadata": {},
   "outputs": [
    {
     "name": "stdout",
     "output_type": "stream",
     "text": [
      "1\n",
      "2\n",
      "3\n",
      "4\n",
      "6\n",
      "7\n",
      "8\n",
      "9\n",
      "10\n",
      "1\n",
      "2\n",
      "3\n",
      "4\n",
      "6\n",
      "7\n",
      "8\n",
      "9\n",
      "10\n"
     ]
    }
   ],
   "source": [
    "# print 1 to 10 except 5\n",
    "\n",
    "for x in range(1,11): \n",
    "    if (x!=5):\n",
    "        print(x)\n",
    "# Another approach with continue option\n",
    "\n",
    "for x in range(1,11):\n",
    "    if x==5:\n",
    "        continue\n",
    "    print(x)"
   ]
  },
  {
   "cell_type": "code",
   "execution_count": 5,
   "id": "e6085e28",
   "metadata": {},
   "outputs": [
    {
     "name": "stdout",
     "output_type": "stream",
     "text": [
      "1\n",
      "2\n",
      "3\n",
      "4\n"
     ]
    }
   ],
   "source": [
    "# print 1 to 10 stop at 5\n",
    "\n",
    "for x in range(1,11):\n",
    "    if x==5:\n",
    "        break\n",
    "    print(x)"
   ]
  },
  {
   "cell_type": "code",
   "execution_count": 7,
   "id": "2acef8b9",
   "metadata": {},
   "outputs": [
    {
     "name": "stdout",
     "output_type": "stream",
     "text": [
      "1 -----\n",
      "1\n",
      "2\n",
      "3\n",
      "4\n",
      "2 -----\n",
      "1\n",
      "2\n",
      "3\n",
      "4\n",
      "3 -----\n",
      "1\n",
      "2\n",
      "3\n",
      "4\n",
      "4 -----\n",
      "1\n",
      "2\n",
      "3\n",
      "4\n"
     ]
    }
   ],
   "source": [
    "# double loop\n",
    "num=4\n",
    "for i in range(1, num+1):\n",
    "    print(i,'-----')\n",
    "    for j in range(1, num+1):\n",
    "        print(j)\n",
    "    "
   ]
  },
  {
   "cell_type": "code",
   "execution_count": 9,
   "id": "711efb29",
   "metadata": {},
   "outputs": [
    {
     "name": "stdout",
     "output_type": "stream",
     "text": [
      "row1,-----\n",
      "1 1\n",
      "1 2\n",
      "1 3\n",
      "1 4\n",
      "row2,-----\n",
      "2 1\n",
      "2 2\n",
      "2 3\n",
      "2 4\n",
      "row3,-----\n",
      "3 1\n",
      "3 2\n",
      "3 3\n",
      "3 4\n",
      "row4,-----\n",
      "4 1\n",
      "4 2\n",
      "4 3\n",
      "4 4\n"
     ]
    }
   ],
   "source": [
    "# double loop\n",
    "num=4\n",
    "for i in range(1, num+1):\n",
    "    print(f'row{i},-----')\n",
    "    for j in range(1, num+1):\n",
    "        print(i,j)"
   ]
  },
  {
   "cell_type": "code",
   "execution_count": 18,
   "id": "e52834d0",
   "metadata": {},
   "outputs": [
    {
     "name": "stdout",
     "output_type": "stream",
     "text": [
      "* * * * \n",
      "* * * * \n",
      "* * * * \n",
      "* * * * \n",
      "16\n",
      "* * * * \n",
      "* * * * \n",
      "* * * * \n",
      "* * * * \n",
      "4\n"
     ]
    }
   ],
   "source": [
    "num=4\n",
    "count=0\n",
    "for i in range(1, num+1):\n",
    "    for j in range(1, num+1):\n",
    "        print('*', end=\" \")\n",
    "        count+=1\n",
    "    print()\n",
    "print(count)\n",
    "# program runs 16 times\n",
    "count=0\n",
    "for i in range(1,num+1):\n",
    "    print('* '*num)\n",
    "    count+=1\n",
    "print(count)\n",
    "\n",
    "# program runs only 4 times"
   ]
  },
  {
   "cell_type": "code",
   "execution_count": 23,
   "id": "482a0a24",
   "metadata": {},
   "outputs": [
    {
     "name": "stdout",
     "output_type": "stream",
     "text": [
      "*\n",
      "**\n",
      "***\n",
      "****\n",
      "*****\n"
     ]
    }
   ],
   "source": [
    "num=5\n",
    "for i in range(1,num+1):\n",
    "    print('*'*i)"
   ]
  },
  {
   "cell_type": "code",
   "execution_count": 28,
   "id": "0e850879",
   "metadata": {},
   "outputs": [
    {
     "name": "stdout",
     "output_type": "stream",
     "text": [
      "     *\n",
      "    **\n",
      "   ***\n",
      "  ****\n",
      " *****\n"
     ]
    }
   ],
   "source": [
    "num=5\n",
    "for i in range(1,num+1):\n",
    "    print(\" \"*(num-i),\"*\"*i)"
   ]
  },
  {
   "cell_type": "code",
   "execution_count": 29,
   "id": "c17d77af",
   "metadata": {},
   "outputs": [
    {
     "name": "stdout",
     "output_type": "stream",
     "text": [
      "     * \n",
      "    * * \n",
      "   * * * \n",
      "  * * * * \n",
      " * * * * * \n"
     ]
    }
   ],
   "source": [
    "num=5\n",
    "for i in range(1,num+1):\n",
    "    print(\" \"*(num-i),\"* \"*i)"
   ]
  },
  {
   "cell_type": "code",
   "execution_count": 1,
   "id": "495d144d",
   "metadata": {},
   "outputs": [],
   "source": [
    "#------------while loop--------------------"
   ]
  },
  {
   "cell_type": "code",
   "execution_count": 2,
   "id": "9f613071",
   "metadata": {},
   "outputs": [],
   "source": [
    "# while loop -------> entry controlled loop"
   ]
  },
  {
   "cell_type": "code",
   "execution_count": 6,
   "id": "4a494b11",
   "metadata": {},
   "outputs": [
    {
     "name": "stdout",
     "output_type": "stream",
     "text": [
      "1\n",
      "2\n",
      "3\n",
      "4\n",
      "5\n",
      "6\n",
      "7\n",
      "8\n",
      "9\n",
      "10\n"
     ]
    }
   ],
   "source": [
    "#print 1 to 10\n",
    "\n",
    "i=1\n",
    "while i<=10:\n",
    "    print(i)\n",
    "    i+=1"
   ]
  },
  {
   "cell_type": "code",
   "execution_count": 7,
   "id": "85fe5dfd",
   "metadata": {},
   "outputs": [],
   "source": [
    "#-------- loops with collections"
   ]
  },
  {
   "cell_type": "code",
   "execution_count": 8,
   "id": "f4dec5df",
   "metadata": {},
   "outputs": [
    {
     "name": "stdout",
     "output_type": "stream",
     "text": [
      "1\n",
      "2\n",
      "3\n",
      "4\n"
     ]
    }
   ],
   "source": [
    "a=[1,2,3,4]\n",
    "\n",
    "for x in a:\n",
    "    print(x)"
   ]
  },
  {
   "cell_type": "code",
   "execution_count": 9,
   "id": "adbbf924",
   "metadata": {},
   "outputs": [
    {
     "name": "stdout",
     "output_type": "stream",
     "text": [
      "1\n",
      "2\n",
      "3\n",
      "4\n"
     ]
    }
   ],
   "source": [
    "a=(1,2,3,4)\n",
    "\n",
    "for x in a:\n",
    "    print(x)"
   ]
  },
  {
   "cell_type": "code",
   "execution_count": 10,
   "id": "ba918e58",
   "metadata": {},
   "outputs": [
    {
     "name": "stdout",
     "output_type": "stream",
     "text": [
      "1\n",
      "2\n",
      "3\n",
      "4\n"
     ]
    }
   ],
   "source": [
    "a={1,2,3,4}\n",
    "\n",
    "for x in a:\n",
    "    print(x)"
   ]
  },
  {
   "cell_type": "code",
   "execution_count": 20,
   "id": "84bd5fdc",
   "metadata": {},
   "outputs": [
    {
     "name": "stdout",
     "output_type": "stream",
     "text": [
      "Name\n",
      "Age\n",
      "_________________\n",
      "Name Ron\n",
      "Age 27\n",
      "Name\n",
      "Age\n",
      "_________________\n",
      "Ron\n",
      "27\n"
     ]
    }
   ],
   "source": [
    "b={\n",
    "    \"Name\":'Ron',\n",
    "    \"Age\":27\n",
    "}\n",
    "\n",
    "for x in b:\n",
    "    print(x)\n",
    "    \n",
    "    \n",
    "print('_________________')\n",
    "\n",
    "# to get keys and values\n",
    "\n",
    "for key in b:\n",
    "    print(key,b.get(key))\n",
    "    \n",
    "# to get keys  \n",
    "\n",
    "for key in b:\n",
    "    print(key)\n",
    "print('_________________') \n",
    "# to get keys  \n",
    "\n",
    "for value in b.values():\n",
    "    print(value)"
   ]
  },
  {
   "cell_type": "code",
   "execution_count": null,
   "id": "4b632a6b",
   "metadata": {},
   "outputs": [],
   "source": []
  }
 ],
 "metadata": {
  "kernelspec": {
   "display_name": "Python 3 (ipykernel)",
   "language": "python",
   "name": "python3"
  },
  "language_info": {
   "codemirror_mode": {
    "name": "ipython",
    "version": 3
   },
   "file_extension": ".py",
   "mimetype": "text/x-python",
   "name": "python",
   "nbconvert_exporter": "python",
   "pygments_lexer": "ipython3",
   "version": "3.12.8"
  }
 },
 "nbformat": 4,
 "nbformat_minor": 5
}
