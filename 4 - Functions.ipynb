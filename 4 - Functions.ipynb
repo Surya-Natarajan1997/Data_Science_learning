{
 "cells": [
  {
   "cell_type": "code",
   "execution_count": 7,
   "id": "8eb0c749",
   "metadata": {},
   "outputs": [
    {
     "name": "stdout",
     "output_type": "stream",
     "text": [
      "5040\n"
     ]
    }
   ],
   "source": [
    "#factorial\n",
    "num=7\n",
    "fact=1\n",
    "for i in range(1,num+1):\n",
    "    fact=fact*i\n",
    "    \n",
    "print(fact)"
   ]
  },
  {
   "cell_type": "code",
   "execution_count": 15,
   "id": "46f8fd13",
   "metadata": {},
   "outputs": [
    {
     "name": "stdout",
     "output_type": "stream",
     "text": [
      "factorial of 10 is 3628800\n"
     ]
    },
    {
     "data": {
      "text/plain": [
       "3628800"
      ]
     },
     "execution_count": 15,
     "metadata": {},
     "output_type": "execute_result"
    }
   ],
   "source": [
    "#functions -> code that can used again for the same process with new inputs\n",
    "# always use action vers as function names\n",
    "\n",
    "def get_fact(num):   # here num is parameter and 10 that is used is arugument\n",
    "    fact=1\n",
    "    for i in range(1,num+1):\n",
    "        fact=fact*i\n",
    "    print(f'factorial of {num} is {fact}') #=>this will only help is printing not getting the value.\n",
    "    return fact   # this will help in using the result in some other process\n",
    "\n",
    "get_fact(10)"
   ]
  },
  {
   "cell_type": "code",
   "execution_count": 17,
   "id": "c6a88bbf",
   "metadata": {},
   "outputs": [
    {
     "data": {
      "text/plain": [
       "' Types of fuctions\\n1-with argument, with return value\\n2-with argument, without return value\\n3-without argument, with return value\\n4-without argument, without return value\\n'"
      ]
     },
     "execution_count": 17,
     "metadata": {},
     "output_type": "execute_result"
    }
   ],
   "source": [
    "''' Types of fuctions\n",
    "1-with argument, with return value\n",
    "2-with argument, without return value\n",
    "3-without argument, with return value\n",
    "4-without argument, without return value\n",
    "'''"
   ]
  },
  {
   "cell_type": "code",
   "execution_count": 10,
   "id": "2477e295",
   "metadata": {},
   "outputs": [
    {
     "name": "stdout",
     "output_type": "stream",
     "text": [
      "10\n"
     ]
    }
   ],
   "source": [
    "#arguments (*args)--> * converts the inputs into tuple\n",
    "\n",
    "def add_num(*nums):\n",
    "    print(nums)\n",
    "\n",
    "add_num(20,20, type)  #use of tuple --> the output is returned in tuple so it is not mutable "
   ]
  },
  {
   "cell_type": "code",
   "execution_count": 11,
   "id": "af5866b2",
   "metadata": {},
   "outputs": [
    {
     "name": "stdout",
     "output_type": "stream",
     "text": [
      "30\n"
     ]
    }
   ],
   "source": [
    "\n",
    "def add_num(*nums):\n",
    "    total=0\n",
    "    for num in nums:\n",
    "        total+=num\n",
    "    return total\n",
    "\n",
    "print(add_num(10,20))  "
   ]
  },
  {
   "cell_type": "code",
   "execution_count": 16,
   "id": "a2c35e68",
   "metadata": {},
   "outputs": [
    {
     "name": "stdout",
     "output_type": "stream",
     "text": [
      " Welcome Surya. Your id is 10\n"
     ]
    }
   ],
   "source": [
    "def welcome(name='Guest', roll_no = '000'):\n",
    "    print(f' Welcome {name}. Your id is {roll_no}')\n",
    "\n",
    "welcome('Surya',10)\n"
   ]
  },
  {
   "cell_type": "code",
   "execution_count": 17,
   "id": "d4108f46",
   "metadata": {},
   "outputs": [
    {
     "name": "stdout",
     "output_type": "stream",
     "text": [
      " Welcome Surya. Your id is 10\n"
     ]
    }
   ],
   "source": [
    "def welcome(name='Guest', roll_no = '000'):\n",
    "    print(f' Welcome {name}. Your id is {roll_no}')\n",
    "\n",
    "welcome(roll_no=10, name='Surya')  #Named parameters, though oreder is collapsed, it is assignmed to correct places"
   ]
  },
  {
   "cell_type": "code",
   "execution_count": 19,
   "id": "7f5a7613",
   "metadata": {},
   "outputs": [
    {
     "name": "stdout",
     "output_type": "stream",
     "text": [
      "{'roll_no': 10, 'name': 'Surya', 'Place': 'TPR'}\n"
     ]
    }
   ],
   "source": [
    "#kwargs  ---> keyword arguments  --> info is stored in dictionary\n",
    "\n",
    "def welcome(**data):\n",
    "    print(data)\n",
    "\n",
    "welcome(roll_no=10, name='Surya', Place='TPR')"
   ]
  },
  {
   "cell_type": "code",
   "execution_count": 28,
   "id": "cd794aaa",
   "metadata": {},
   "outputs": [
    {
     "name": "stdout",
     "output_type": "stream",
     "text": [
      " Welcome User. Your id is 10\n"
     ]
    }
   ],
   "source": [
    "def welcome(**data):\n",
    "    print(f\" Welcome {data.get('name','User')}. Your id is {data.get('roll_no')}\")\n",
    "\n",
    "welcome(roll_no=10, Place='TPR')  # even if extra data is passed, no error will occur due to **kwargs"
   ]
  },
  {
   "cell_type": "code",
   "execution_count": 41,
   "id": "4ec32c33",
   "metadata": {},
   "outputs": [],
   "source": [
    "#using function from another file"
   ]
  },
  {
   "cell_type": "code",
   "execution_count": 43,
   "id": "8db61c93",
   "metadata": {},
   "outputs": [
    {
     "name": "stdout",
     "output_type": "stream",
     "text": [
      "30\n"
     ]
    }
   ],
   "source": [
    "import Formula\n",
    "\n",
    "print(Formula.add(10,20))"
   ]
  },
  {
   "cell_type": "code",
   "execution_count": null,
   "id": "8dc663bd",
   "metadata": {},
   "outputs": [],
   "source": [
    "import Formula as form  #using alias\n",
    "\n",
    "print(form.mul(10,20))"
   ]
  },
  {
   "cell_type": "code",
   "execution_count": 44,
   "id": "edd779a2",
   "metadata": {},
   "outputs": [
    {
     "name": "stdout",
     "output_type": "stream",
     "text": [
      "2.0\n"
     ]
    }
   ],
   "source": [
    "from Formula import div  #importing only the function from another file\n",
    "\n",
    "print(form.div(40,20))"
   ]
  },
  {
   "cell_type": "code",
   "execution_count": 51,
   "id": "9d22aede",
   "metadata": {},
   "outputs": [
    {
     "ename": "ModuleNotFoundError",
     "evalue": "No module named 'Assignment'",
     "output_type": "error",
     "traceback": [
      "\u001b[1;31m---------------------------------------------------------------------------\u001b[0m",
      "\u001b[1;31mModuleNotFoundError\u001b[0m                       Traceback (most recent call last)",
      "Cell \u001b[1;32mIn[51], line 3\u001b[0m\n\u001b[0;32m      1\u001b[0m \u001b[38;5;66;03m#import from another folder\u001b[39;00m\n\u001b[1;32m----> 3\u001b[0m \u001b[38;5;28;01mfrom\u001b[39;00m \u001b[38;5;21;01mAssignment\u001b[39;00m\u001b[38;5;21;01m.\u001b[39;00m\u001b[38;5;21;01mFormulas_withsqr\u001b[39;00m \u001b[38;5;28;01mimport\u001b[39;00m sqr\n",
      "\u001b[1;31mModuleNotFoundError\u001b[0m: No module named 'Assignment'"
     ]
    }
   ],
   "source": [
    "#import from another folder\n",
    "\n",
    "from Assignment.Formulas_withsqr import sqr"
   ]
  },
  {
   "cell_type": "code",
   "execution_count": null,
   "id": "8dcf55ff",
   "metadata": {},
   "outputs": [],
   "source": []
  }
 ],
 "metadata": {
  "kernelspec": {
   "display_name": "Python 3 (ipykernel)",
   "language": "python",
   "name": "python3"
  },
  "language_info": {
   "codemirror_mode": {
    "name": "ipython",
    "version": 3
   },
   "file_extension": ".py",
   "mimetype": "text/x-python",
   "name": "python",
   "nbconvert_exporter": "python",
   "pygments_lexer": "ipython3",
   "version": "3.11.5"
  }
 },
 "nbformat": 4,
 "nbformat_minor": 5
}
